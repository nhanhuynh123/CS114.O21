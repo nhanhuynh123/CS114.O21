{
  "nbformat": 4,
  "nbformat_minor": 0,
  "metadata": {
    "colab": {
      "provenance": [],
      "authorship_tag": "ABX9TyNM2XOsMtu2H8KBo2go0l/M",
      "include_colab_link": true
    },
    "kernelspec": {
      "name": "python3",
      "display_name": "Python 3"
    },
    "language_info": {
      "name": "python"
    }
  },
  "cells": [
    {
      "cell_type": "markdown",
      "metadata": {
        "id": "view-in-github",
        "colab_type": "text"
      },
      "source": [
        "<a href=\"https://colab.research.google.com/github/nhanhuynh123/CS114.O21/blob/main/Untitled2.ipynb\" target=\"_parent\"><img src=\"https://colab.research.google.com/assets/colab-badge.svg\" alt=\"Open In Colab\"/></a>"
      ]
    },
    {
      "cell_type": "code",
      "execution_count": 7,
      "metadata": {
        "colab": {
          "base_uri": "https://localhost:8080/"
        },
        "id": "IZlmxy_4WMwo",
        "outputId": "41478cd6-3327-45c8-8f9d-fc438a8c0093"
      },
      "outputs": [
        {
          "output_type": "stream",
          "name": "stdout",
          "text": [
            "Overwriting gen.py\n"
          ]
        }
      ],
      "source": [
        "%%writefile gen.py\n",
        "import random\n",
        "n, m = 7, 6\n",
        "print(n)\n",
        "print(*sorted([random.randint(-n, n) for i in range(n) ]))\n",
        "print(m)\n",
        "print(*sorted([random.randint(-m, m) for i in range(m) ]))"
      ]
    },
    {
      "cell_type": "code",
      "source": [
        "%%writefile search.py\n",
        "import sys\n"
      ],
      "metadata": {
        "id": "5mj5OlKjZhZN"
      },
      "execution_count": 9,
      "outputs": []
    },
    {
      "cell_type": "markdown",
      "source": [],
      "metadata": {
        "id": "kjnJsB4NZg4W"
      }
    }
  ]
}